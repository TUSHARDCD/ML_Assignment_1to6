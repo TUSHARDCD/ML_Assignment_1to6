{
 "cells": [
  {
   "cell_type": "markdown",
   "metadata": {},
   "source": [
    "2.1. Problem Statement: Machine Learning 1\n",
    "1. What are the three stages to build the hypotheses or model in machine\n",
    "learning?"
   ]
  },
  {
   "cell_type": "markdown",
   "metadata": {},
   "source": [
    "A machine learning model which can be a mathematical representation of a real-world process. The learning algorithm finds patterns in the training data in which the input parameters correspond to the target. The output of the training process is a machine learning model which is can use to make predictions.\n",
    "\n",
    "The three stages of building the hypotheses or model in machine learning:\n",
    "\n",
    "     Model Building - Data set preparation which is the foundation for any machine learning.\n",
    "     Applyting the Model - The project implementation is complex and involves data collection selection.\n",
    "     Model Testing - The pre-processing and transformation.\n"
   ]
  },
  {
   "cell_type": "markdown",
   "metadata": {},
   "source": []
  },
  {
   "cell_type": "markdown",
   "metadata": {},
   "source": [
    "2. What is the standard approach to supervised learning?"
   ]
  },
  {
   "cell_type": "markdown",
   "metadata": {},
   "source": [
    "Supervised learning algorithms are trained using labeled examples, such as an input where the desired\n",
    "output is known. For example, a piece of equipment could have data points labeled either “F” (failed) or “R”\n",
    "(runs). The learning algorithm receives a set of inputs along with the corresponding correct outputs, and the\n",
    "algorithm learns by comparing its actual output with correct outputs to find errors. It then modifies the model\n",
    "accordingly. Through methods like classification, regression, prediction and gradient boosting, supervised\n",
    "learning uses patterns to predict the values of the label on additional unlabeled data. Supervised learning is\n",
    "commonly used in applications where historical data predicts likely future events. For example, it can\n",
    "anticipate when credit card transactions are likely to be fraudulent or which insurance customer is likely to file\n",
    "a claim. Supervised algorithms can further devided into following:\n",
    "Classification. When the data are being used to predict a category, supervised learning is also\n",
    "called classification. This is the case when assigning an image as a picture of either a 'cat' or a\n",
    "'dog'. When there are only two choices, it's called two-class or binomial classification. When there\n",
    "are more categories, as when predicting the winner of the NCAA March Madness tournament, this\n",
    "problem is known as multi-class classification.\n",
    "Regression. When a value is being predicted, as with stock prices, supervised learning is called\n",
    "regression.\n",
    "Anomaly detection. Sometimes the goal is to identify data points that are simply unusual. In fraud\n",
    "detection, for example, any highly unusual credit card spending patterns are suspect. The possible\n",
    "variations are so numerous and the training examples so few, that it's not feasible to learn what\n",
    "fraudulent activity looks like. The approach that anomaly detection takes is to simply learn what\n",
    "normal activity looks like (using a history non-fraudulent transactions) and identify anything that is\n",
    "significantly different."
   ]
  },
  {
   "cell_type": "code",
   "execution_count": null,
   "metadata": {},
   "outputs": [],
   "source": []
  },
  {
   "cell_type": "markdown",
   "metadata": {},
   "source": [
    "3. What is Training set and Test set?"
   ]
  },
  {
   "cell_type": "markdown",
   "metadata": {},
   "source": [
    "What is a Training Set?\n",
    "\n",
    "In machine learning, a training set is a dataset used to train a model. In training the model, specific features\n",
    "are picked out from the training set. These features are then incorporated into the model. Thereby, if the\n",
    "training set is labeled correctly, the model should be able to learn something from these features.\n",
    "\n",
    "What is a Test Set?\n",
    "\n",
    "The test set is a dataset used to measure how well the model performs at making predictions on that test set.\n",
    "If the prediction scores for the test set are unreasonable, we’ll need to make some adjustments to our model\n",
    "and try again."
   ]
  },
  {
   "cell_type": "code",
   "execution_count": null,
   "metadata": {},
   "outputs": [],
   "source": []
  },
  {
   "cell_type": "markdown",
   "metadata": {},
   "source": [
    "4. What is the general principle of an ensemble method and what is\n",
    "bagging and boosting in ensemble method?"
   ]
  },
  {
   "cell_type": "markdown",
   "metadata": {},
   "source": [
    "Ensemble methods are supervized learning models which combine the predictions of multiple smaller\n",
    "models to improve predictive power and generalization.\n",
    "The smaller models that combine to make the ensemble model are referred to as base models. Ensemble\n",
    "methods often result in considerably higher performance than any of the individual base models could\n",
    "achieve.\n",
    "\n",
    "When to use ensembles\n",
    "- Medical diagnoses\n",
    "- Predicting disease outbreak, natrual disasters\n",
    "- Stock market predictions\n",
    "- AI\n",
    "Or any case where the highest performance is desired at the expense of model interpretability.\n",
    "\n",
    "Two popular families of ensemble methods\n",
    "\n",
    "BAGGING\n",
    "Several estimators are built independently on subsets of the data and their predictions are averaged.\n",
    "Typically the combined estimator is usually better than any of the single base estimator.\n",
    "Bagging can reduce variance with little to no effect on bias.\n",
    "ex: Random Forests\n",
    "\n",
    "BOOSTING\n",
    "Base estimators are built sequentially. Each subsequent estimator focuses on the weaknesses of the\n",
    "previous estimators. In essence several weak models \"team up\" to produce a powerful ensemble model. (We\n",
    "will discuss these later this week.)\n",
    "Boosting can reduce bias without incurring higher variance.\n",
    "ex: Gradient Boosted Trees, AdaBoost"
   ]
  },
  {
   "cell_type": "code",
   "execution_count": null,
   "metadata": {},
   "outputs": [],
   "source": []
  },
  {
   "cell_type": "markdown",
   "metadata": {},
   "source": [
    "5. How can you avoid overfitting"
   ]
  },
  {
   "cell_type": "markdown",
   "metadata": {},
   "source": [
    "By using a lot of data overfitting can be avoided, overfitting happens relatively as you have a small dataset, and you try to learn from it. But if you have a small database and you are forced to come with a model based on that. In such situation, you can use a technique known as cross validation. In this method the dataset splits into two section, testing and training datasets, the testing dataset will only test the model while, in training dataset, the data points will come up with the model.\n",
    "\n",
    "In this technique, a model is usually given a dataset of a known data on which training (training data set) is run and a dataset of unknown data against which the model is tested. The idea of cross validation is to define a dataset to “test” the model in the training phase."
   ]
  },
  {
   "cell_type": "code",
   "execution_count": null,
   "metadata": {},
   "outputs": [],
   "source": []
  },
  {
   "cell_type": "code",
   "execution_count": null,
   "metadata": {},
   "outputs": [],
   "source": []
  },
  {
   "cell_type": "code",
   "execution_count": null,
   "metadata": {},
   "outputs": [],
   "source": []
  },
  {
   "cell_type": "code",
   "execution_count": null,
   "metadata": {},
   "outputs": [],
   "source": []
  },
  {
   "cell_type": "code",
   "execution_count": null,
   "metadata": {},
   "outputs": [],
   "source": []
  },
  {
   "cell_type": "code",
   "execution_count": null,
   "metadata": {},
   "outputs": [],
   "source": []
  },
  {
   "cell_type": "code",
   "execution_count": null,
   "metadata": {},
   "outputs": [],
   "source": []
  },
  {
   "cell_type": "code",
   "execution_count": null,
   "metadata": {},
   "outputs": [],
   "source": []
  },
  {
   "cell_type": "code",
   "execution_count": null,
   "metadata": {},
   "outputs": [],
   "source": []
  },
  {
   "cell_type": "code",
   "execution_count": null,
   "metadata": {},
   "outputs": [],
   "source": []
  },
  {
   "cell_type": "code",
   "execution_count": null,
   "metadata": {},
   "outputs": [],
   "source": []
  },
  {
   "cell_type": "code",
   "execution_count": null,
   "metadata": {},
   "outputs": [],
   "source": []
  },
  {
   "cell_type": "code",
   "execution_count": null,
   "metadata": {},
   "outputs": [],
   "source": []
  },
  {
   "cell_type": "code",
   "execution_count": null,
   "metadata": {},
   "outputs": [],
   "source": []
  },
  {
   "cell_type": "code",
   "execution_count": null,
   "metadata": {},
   "outputs": [],
   "source": []
  },
  {
   "cell_type": "code",
   "execution_count": null,
   "metadata": {},
   "outputs": [],
   "source": []
  },
  {
   "cell_type": "code",
   "execution_count": null,
   "metadata": {},
   "outputs": [],
   "source": []
  },
  {
   "cell_type": "code",
   "execution_count": null,
   "metadata": {},
   "outputs": [],
   "source": []
  },
  {
   "cell_type": "code",
   "execution_count": null,
   "metadata": {},
   "outputs": [],
   "source": []
  },
  {
   "cell_type": "code",
   "execution_count": null,
   "metadata": {},
   "outputs": [],
   "source": []
  },
  {
   "cell_type": "code",
   "execution_count": null,
   "metadata": {},
   "outputs": [],
   "source": []
  },
  {
   "cell_type": "code",
   "execution_count": null,
   "metadata": {},
   "outputs": [],
   "source": []
  },
  {
   "cell_type": "code",
   "execution_count": null,
   "metadata": {},
   "outputs": [],
   "source": []
  },
  {
   "cell_type": "code",
   "execution_count": null,
   "metadata": {},
   "outputs": [],
   "source": []
  },
  {
   "cell_type": "code",
   "execution_count": null,
   "metadata": {},
   "outputs": [],
   "source": []
  },
  {
   "cell_type": "code",
   "execution_count": null,
   "metadata": {},
   "outputs": [],
   "source": []
  },
  {
   "cell_type": "code",
   "execution_count": null,
   "metadata": {},
   "outputs": [],
   "source": []
  },
  {
   "cell_type": "code",
   "execution_count": null,
   "metadata": {},
   "outputs": [],
   "source": []
  }
 ],
 "metadata": {
  "kernelspec": {
   "display_name": "Python 3",
   "language": "python",
   "name": "python3"
  },
  "language_info": {
   "codemirror_mode": {
    "name": "ipython",
    "version": 3
   },
   "file_extension": ".py",
   "mimetype": "text/x-python",
   "name": "python",
   "nbconvert_exporter": "python",
   "pygments_lexer": "ipython3",
   "version": "3.7.3"
  }
 },
 "nbformat": 4,
 "nbformat_minor": 2
}
